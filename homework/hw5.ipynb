{
 "cells": [
  {
   "cell_type": "code",
   "execution_count": 14,
   "metadata": {},
   "outputs": [],
   "source": [
    "import numpy as np"
   ]
  },
  {
   "cell_type": "code",
   "execution_count": 24,
   "metadata": {},
   "outputs": [
    {
     "name": "stdout",
     "output_type": "stream",
     "text": [
      "67.16666666666667\n",
      "89\n",
      "48\n",
      "13.433995020924426\n",
      "9.707728879609279\n",
      "66.6\n",
      "85.0\n",
      "9.707728879609279\n",
      "65\n",
      "8.825468196582484\n",
      "75.33333333333333\n",
      "8.825468196582484\n"
     ]
    }
   ],
   "source": [
    "#請計算各科成績平均、最大值、最小值、標準差，其中數學缺一筆資料可忽略？\n",
    "eng_score = np.array([55,89,76,65,48,70])\n",
    "math_score = np.array([60,85,60,68,np.nan,60])\n",
    "chinese_score = np.array([65,90,82,72,66,77])\n",
    "eng_mean = np.mean(eng_score)\n",
    "math_mean = np.nanmean(math_score)\n",
    "chinese_mean = np.mean(chinese_score)\n",
    "eng_max = np.nanmax(eng_score)\n",
    "math_max = np.nanmax(math_score)\n",
    "chinese_max = np.nanmax(chinese_score)\n",
    "eng_min = np.nanmin(eng_score)\n",
    "math_min = np.nanmin(math_score)\n",
    "chinese_min = np.nanmin(chinese_score)\n",
    "eng_std = np.nanstd(eng_score)\n",
    "math_std = np.nanstd(math_score)\n",
    "chinese_std = np.nanstd(chinese_score)\n",
    "print(eng_mean)\n",
    "print(eng_max)\n",
    "print(eng_min)\n",
    "print(eng_std)\n",
    "print(math_std)\n",
    "print(math_mean)\n",
    "print(math_max)\n",
    "print(math_std)\n",
    "print(chinese_min)\n",
    "print(chinese_std)\n",
    "print(chinese_mean)\n",
    "print(chinese_std)\n"
   ]
  },
  {
   "cell_type": "code",
   "execution_count": 28,
   "metadata": {},
   "outputs": [
    {
     "name": "stdout",
     "output_type": "stream",
     "text": [
      "64.66666666666667\n",
      "85.0\n",
      "55.0\n",
      "9.860132971832694\n"
     ]
    }
   ],
   "source": [
    "#第五位同學補考數學後成績為 55，請計算補考後數學成績平均、最大值、最小值、標準差？\n",
    "math_score[4]=55\n",
    "print(np.nanmean(math_score))\n",
    "print(np.nanmax(math_score))\n",
    "print(np.nanmin(math_score))\n",
    "print(np.nanstd(math_score))\n"
   ]
  },
  {
   "cell_type": "code",
   "execution_count": 35,
   "metadata": {},
   "outputs": [
    {
     "name": "stdout",
     "output_type": "stream",
     "text": [
      "國文與英文相關係數較高\n"
     ]
    }
   ],
   "source": [
    "#用補考後資料找出與國文成績相關係數最高的學科？\n",
    "if (np.corrcoef(chinese_score,math_score)[0,1]>np.corrcoef(chinese_score,eng_score)[0,1]):\n",
    "    print('國文與數學相關係數較高')\n",
    "else:\n",
    "    print('國文與英文相關係數較高')"
   ]
  },
  {
   "cell_type": "code",
   "execution_count": null,
   "metadata": {},
   "outputs": [],
   "source": []
  }
 ],
 "metadata": {
  "kernelspec": {
   "display_name": "Python 3",
   "language": "python",
   "name": "python3"
  },
  "language_info": {
   "codemirror_mode": {
    "name": "ipython",
    "version": 3
   },
   "file_extension": ".py",
   "mimetype": "text/x-python",
   "name": "python",
   "nbconvert_exporter": "python",
   "pygments_lexer": "ipython3",
   "version": "3.8.3"
  }
 },
 "nbformat": 4,
 "nbformat_minor": 4
}
